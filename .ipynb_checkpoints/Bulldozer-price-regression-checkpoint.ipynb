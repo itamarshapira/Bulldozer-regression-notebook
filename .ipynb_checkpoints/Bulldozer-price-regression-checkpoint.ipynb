{
 "cells": [
  {
   "cell_type": "markdown",
   "id": "4952d634-3aa6-4690-84c4-2735f5e8427d",
   "metadata": {},
   "source": [
    "# Forecasting Bulldozer Prices with Machine Learning 🚜 \n",
    "\n",
    "In this notebook, we're going to go through an example machine learning project to use the characteristics of bulldozers and their past sales prices to predict the sale price of future bulldozers based on their characteristics.\n",
    "\n",
    "* **Inputs:** Bulldozer characteristics such as make year, base model, model series, state of sale (e.g. which US state was it sold in), drive system and more.\n",
    "* **Outputs:** Bulldozer sale price (in USD).\n",
    "\n",
    "Since we're trying to predict a number, this kind of problem is known as a **regression problem**.\n",
    "\n",
    "And since we're going to predicting results with a time component (predicting future sales based on past sales), this is also known as a **time series** or **forecasting** problem.\n",
    "\n",
    "The data and evaluation metric we'll be using (root mean square log error or RMSLE) is from the [Kaggle Bluebook for Bulldozers competition](https://www.kaggle.com/c/bluebook-for-bulldozers/overview).\n",
    "\n",
    "The techniques used in here have been inspired and adapted from [the fast.ai machine learning course](https://course18.fast.ai/ml).\n"
   ]
  },
  {
   "cell_type": "markdown",
   "id": "722dd691-d08d-4dd3-9438-020a3277f5f0",
   "metadata": {},
   "source": [
    "## Overview -6 Step Machine Learning Framework\n",
    "<img src=\"images/tools.png\" alt=\"tools Image\">"
   ]
  },
  {
   "cell_type": "markdown",
   "id": "ba0e23fe-15c3-4794-b596-2aa1c02ac441",
   "metadata": {},
   "source": [
    "### 1. Problem Definition\n",
    "\n",
    "For this dataset, the problem we're trying to solve, or better, the question we're trying to answer is,\n",
    "\n",
    "> How well can we predict the future sale price of a bulldozer, given its characteristics previous examples of how much similar bulldozers have been sold for?"
   ]
  },
  {
   "cell_type": "markdown",
   "id": "b664235f-9858-429d-bd96-96a76e6a4607",
   "metadata": {},
   "source": [
    "### 2. Data\n",
    "\n",
    "Looking at the [dataset from Kaggle](https://www.kaggle.com/c/bluebook-for-bulldozers/data) we see that it contains historical sales data of bulldozers. Including things like, model type, size, sale date and more.\n",
    "\n",
    "There are 3 datasets:\n",
    "\n",
    "1. **Train.csv** - Historical bulldozer sales examples up to 2011 (close to 400,000 examples with 50+ different attributes, including `SalePrice` which is the **target variable**).\n",
    "2. **Valid.csv** - Historical bulldozer sales examples from January 1 2012 to April 30 2012 (close to 12,000 examples with the same attributes as **Train.csv**).\n",
    "3. **Test.csv** - Historical bulldozer sales examples from May 1 2012 to November 2012 (close to 12,000 examples but missing the `SalePrice` attribute, as this is what we'll be trying to predict)."
   ]
  },
  {
   "cell_type": "markdown",
   "id": "596d2fd5-0414-4cad-b29a-49e3c63447b2",
   "metadata": {},
   "source": [
    "### 3. Evaluation\n",
    "\n",
    "For this problem, [Kaggle has set the evaluation metric to being root mean squared log error (RMSLE)](https://www.kaggle.com/c/bluebook-for-bulldozers/overview/evaluation). As with many regression evaluations, the goal will be to get this value as low as possible (a low error value means our model's predictions are close to what the real values are).\n",
    "\n",
    "To see how well our model is doing, we'll calculate the RMSLE and then compare our results to others on the [Kaggle leaderboard](https://www.kaggle.com/c/bluebook-for-bulldozers/leaderboard).\n",
    "\n",
    "**`Note`**: The goal for most regression evaluation metrics is to minimize the error. For example, our goal for this project will be to build a machine learning model which minimises RMSLE."
   ]
  },
  {
   "cell_type": "markdown",
   "id": "74d09a45-ac07-41e0-a059-8224ccfe617c",
   "metadata": {},
   "source": [
    "### 4. Features - different parts and attributes of the data\n",
    "\n",
    " **data dictionary** down below :"
   ]
  },
  {
   "cell_type": "markdown",
   "id": "4dc0a5aa",
   "metadata": {},
   "source": [
    "#### data dictionary\n",
    " "
   ]
  },
  {
   "cell_type": "markdown",
   "id": "ec4fb76f",
   "metadata": {},
   "source": [
    "For this dataset, Kaggle provides a data dictionary which contains information about what each attribute of the dataset means. \n",
    "\n",
    "For example: \n",
    "\n",
    "| Variable Name | Description  | Variable Type |\n",
    "|------|-----|-----|\n",
    "| SalesID   | unique identifier of a particular sale of a machine at auction  | Independent  variable |\n",
    "| MachineID  | identifier for a particular machine; machines may have multiple sales  | Independent  variable |\n",
    "| ModelID | identifier for a unique machine model (i.e. fiModelDesc) | Independent  variable |\n",
    "| datasource  | source of the sale record; some sources are more diligent about reporting attributes of the machine than others. Note that a particular datasource may report on multiple auctioneerIDs. | Independent  variable |\n",
    "| auctioneerID  | identifier of a particular auctioneer, i.e. company that sold the machine at auction. Not the same as datasource.  | Independent  variable |\n",
    "| YearMade  | year of manufacturer of the Machine  | Independent  variable |\n",
    "| MachineHoursCurrentMeter | current usage of the machine in hours at time of sale (saledate); null or 0 means no hours have been reported for that sale | Independent  variable |\n",
    "| UsageBand | value (low, medium, high) calculated comparing this particular Machine-Sale hours to average usage for the fiBaseModel; e.g. 'Low' means this machine has fewer hours given its lifespan relative to the average of fiBaseModel. | Independent  variable |\n",
    "| Saledate   | time of sale | Independent  variable |\n",
    "| fiModelDesc  | Description of a unique machine model (see ModelID); concatenation of fiBaseModel & fiSecondaryDesc & fiModelSeries & fiModelDescriptor  | Independent  variable |\n",
    "| State | US State in which sale occurred | Independent  variable |\n",
    "| Drive_System | machine configuration; typically describes whether 2 or 4 wheel drive  | Independent  variable |\n",
    "| Enclosure  | machine configuration - does the machine have an enclosed cab or not | Independent  variable |\n",
    "| Forks  | machine configuration - attachment used for lifting  | Independent  variable |\n",
    "| Pad_Type | machine configuration - type of treads a crawler machine uses | Independent  variable |\n",
    "| Ride_Control  | machine configuration - optional feature on loaders to make the ride smoother | Independent  variable |\n",
    "| Transmission | machine configuration - describes type of transmission; typically automatic or manual | Independent  variable |\n",
    "| ... | ... | ... |\n",
    "| SalePrice | cost of sale in USD | Target/dependent variable | \n",
    "\n",
    "You can download the full version of this file directly from the [Kaggle competition page](https://www.kaggle.com/c/bluebook-for-bulldozers/download/Bnl6RAHA0enbg0UfAvGA%2Fversions%2FwBG4f35Q8mAbfkzwCeZn%2Ffiles%2FData%20Dictionary.xlsx) (Kaggle account required) or view it [on Google Sheets](https://docs.google.com/spreadsheets/d/18ly-bLR8sbDJLITkWG7ozKm8l3RyieQ2Fpgix-beSYI/edit?usp=sharing)."
   ]
  },
  {
   "cell_type": "markdown",
   "id": "2aec7d85",
   "metadata": {},
   "source": []
  }
 ],
 "metadata": {
  "kernelspec": {
   "display_name": "Python 3 (ipykernel)",
   "language": "python",
   "name": "python3"
  },
  "language_info": {
   "codemirror_mode": {
    "name": "ipython",
    "version": 3
   },
   "file_extension": ".py",
   "mimetype": "text/x-python",
   "name": "python",
   "nbconvert_exporter": "python",
   "pygments_lexer": "ipython3",
   "version": "3.12.7"
  }
 },
 "nbformat": 4,
 "nbformat_minor": 5
}
